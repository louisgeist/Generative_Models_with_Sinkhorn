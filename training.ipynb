{
 "cells": [
  {
   "cell_type": "code",
   "execution_count": 1,
   "id": "8ea3ad5a",
   "metadata": {},
   "outputs": [],
   "source": [
    "import torch\n",
    "import torch.nn as nn\n",
    "from torchvision import datasets, transforms\n",
    "from torch.utils.data import DataLoader\n",
    "from gen_model_with_sinkhorn import Model\n",
    "\n",
    "import torch\n",
    "from torchvision import datasets, transforms\n",
    "from torch.utils.data import DataLoader\n",
    "\n",
    "\n",
    "#PARAMETERS\n",
    "batch_size = 64\n",
    "epochs = 20\n",
    "generator_dim = [[2,32], [32,128], [128, 784]] #last one should be [_,784]\n",
    "learned_cost_dim = [[784, 128], [128, 128]] #first one should be [784, _]\n",
    "lr = 0.01\n",
    "learnable_cost = False\n",
    "epsilon = 0.1\n",
    "\n",
    "model = Model(generator_dim, learned_cost_dim, batch_size, lr, epsilon, learnable_cost)\n",
    "\n",
    "#to use normalized version of MNIST\n",
    "transform = transforms.Compose([\n",
    "    transforms.ToTensor(),\n",
    "    transforms.Normalize((0.5,), (0.5,)) \n",
    "])\n",
    "\n",
    "# Download and load the MNIST dataset\n",
    "train_dataset = datasets.MNIST(root='./data', train=True, transform=transform, download=True)\n",
    "test_dataset = datasets.MNIST(root='./data', train=False, transform=transform, download=True)\n",
    "\n",
    "\n",
    "# Flatten 28x28 image into a vector= of 784 fetures\n",
    "flatten = transforms.Lambda(lambda x: x.view(-1))\n",
    "\n",
    "# Apply the flatten transformation to the dataset\n",
    "train_dataset.transform = transforms.Compose([transform, flatten])\n",
    "test_dataset.transform = transforms.Compose([transform, flatten])\n",
    "\n",
    "# Create dataloaders\n",
    "train_dataloader = DataLoader(dataset=train_dataset, batch_size=batch_size, shuffle=True)\n",
    "test_dataloader = DataLoader(dataset=test_dataset, batch_size=batch_size, shuffle=False)"
   ]
  },
  {
   "cell_type": "code",
   "execution_count": null,
   "id": "c46b4c42",
   "metadata": {},
   "outputs": [],
   "source": [
    "#training \n",
    "for epoch in range(1,epochs+1):\n",
    "    model.train(True)\n",
    "    loss = model.train_1epoch(train_dataloader)\n",
    "    print(f\"epoch{epoch}: loss = {loss}\\n\")\n",
    "\n",
    "torch.save(model, \"basic_model.pt\")\n"
   ]
  }
 ],
 "metadata": {
  "kernelspec": {
   "display_name": "Python 3 (ipykernel)",
   "language": "python",
   "name": "python3"
  },
  "language_info": {
   "codemirror_mode": {
    "name": "ipython",
    "version": 3
   },
   "file_extension": ".py",
   "mimetype": "text/x-python",
   "name": "python",
   "nbconvert_exporter": "python",
   "pygments_lexer": "ipython3",
   "version": "3.11.4"
  }
 },
 "nbformat": 4,
 "nbformat_minor": 5
}
